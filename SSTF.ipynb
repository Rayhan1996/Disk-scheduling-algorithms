{
  "nbformat": 4,
  "nbformat_minor": 0,
  "metadata": {
    "colab": {
      "name": "SSTF.ipynb",
      "provenance": [],
      "collapsed_sections": []
    },
    "kernelspec": {
      "name": "python3",
      "display_name": "Python 3"
    }
  },
  "cells": [
    {
      "cell_type": "markdown",
      "metadata": {
        "id": "Tdr8jMaEdRDJ"
      },
      "source": [
        "**SSTF**"
      ]
    },
    {
      "cell_type": "code",
      "metadata": {
        "colab": {
          "base_uri": "https://localhost:8080/"
        },
        "id": "78UW9CWDdjHP",
        "outputId": "ee36fa40-391c-43b2-b224-cc43b0c5a9d1"
      },
      "source": [
        "queue = list(map(int, input('Enter sequence : ').split()))\r\n",
        "header = int(input('Give header : '))\r\n",
        "\r\n",
        "queue.insert(0, header)"
      ],
      "execution_count": 10,
      "outputs": [
        {
          "output_type": "stream",
          "text": [
            "Enter sequence : 98 183 37 122 14 124 65 67\n",
            "Give header : 53\n"
          ],
          "name": "stdout"
        }
      ]
    },
    {
      "cell_type": "code",
      "metadata": {
        "colab": {
          "base_uri": "https://localhost:8080/"
        },
        "id": "Aj_83XJXkQri",
        "outputId": "3966cd6f-73da-428b-9063-52311c94d78c"
      },
      "source": [
        "path = [header]\r\n",
        "cnt = len(queue)-1\r\n",
        "val=0\r\n",
        "while queue:\r\n",
        "    \r\n",
        "    if cnt == 0:\r\n",
        "        queue.remove(header)\r\n",
        "        hdr = path[len(path)-1]\r\n",
        "        minDist = 9999999999999999999\r\n",
        "        for i in queue:\r\n",
        "            if minDist>abs(hdr-i):\r\n",
        "                minDist = abs(hdr-i)\r\n",
        "                temp = i\r\n",
        "        print('abs({}-{})'.format(hdr,temp))\r\n",
        "        path.append(temp)\r\n",
        "        header=temp\r\n",
        "    else:\r\n",
        "        queue.remove(header)\r\n",
        "        hdr = path[len(path)-1]\r\n",
        "        minDist = 9999999999999999999\r\n",
        "        for i in queue:\r\n",
        "            if minDist>abs(hdr-i):\r\n",
        "                minDist = abs(hdr-i)\r\n",
        "                temp = i\r\n",
        "        print('abs({}-{})'.format(hdr,temp),end='+')\r\n",
        "        val+=abs(hdr-temp)\r\n",
        "        path.append(temp)\r\n",
        "        header=temp\r\n",
        "\r\n",
        "        \r\n",
        "    cnt-=1"
      ],
      "execution_count": 11,
      "outputs": [
        {
          "output_type": "stream",
          "text": [
            "abs(53-65)+abs(65-67)+abs(67-37)+abs(37-14)+abs(14-98)+abs(98-122)+abs(122-124)+abs(124-183)+abs(183-183)\n"
          ],
          "name": "stdout"
        }
      ]
    },
    {
      "cell_type": "code",
      "metadata": {
        "colab": {
          "base_uri": "https://localhost:8080/"
        },
        "id": "S374FxSgknRw",
        "outputId": "b154462d-5020-4731-a716-82c9a9926163"
      },
      "source": [
        "print('Path is',path[:-1])"
      ],
      "execution_count": 12,
      "outputs": [
        {
          "output_type": "stream",
          "text": [
            "Path is [53, 65, 67, 37, 14, 98, 122, 124, 183]\n"
          ],
          "name": "stdout"
        }
      ]
    },
    {
      "cell_type": "code",
      "metadata": {
        "colab": {
          "base_uri": "https://localhost:8080/"
        },
        "id": "uX-IL2wXkq_S",
        "outputId": "657ca477-131e-4977-8471-63080e73fafe"
      },
      "source": [
        "print('Path cost is',val,'cylinders')"
      ],
      "execution_count": 15,
      "outputs": [
        {
          "output_type": "stream",
          "text": [
            "Path cost is 236 cylinders\n"
          ],
          "name": "stdout"
        }
      ]
    }
  ]
}