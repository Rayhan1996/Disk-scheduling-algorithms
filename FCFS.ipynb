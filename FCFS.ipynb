{
  "nbformat": 4,
  "nbformat_minor": 0,
  "metadata": {
    "colab": {
      "name": "FCFS.ipynb",
      "provenance": [],
      "collapsed_sections": []
    },
    "kernelspec": {
      "name": "python3",
      "display_name": "Python 3"
    }
  },
  "cells": [
    {
      "cell_type": "markdown",
      "metadata": {
        "id": "NJsfVj9wYzZs"
      },
      "source": [
        "**fast come fast serve**"
      ]
    },
    {
      "cell_type": "code",
      "metadata": {
        "colab": {
          "base_uri": "https://localhost:8080/"
        },
        "id": "2lWg7ID7Y4Wa",
        "outputId": "aabefae8-e0a3-4496-b6a8-bd7f920f605b"
      },
      "source": [
        "queue = list(map(int, input('Enter sequence : ').split()))\r\n",
        "header = int(input('Give header : '))\r\n",
        "\r\n",
        "queue.insert(0, header)\r\n",
        "print('Path is',queue)\r\n",
        "\r\n",
        "temp = [0]\r\n",
        "\r\n",
        "for i in range(1,len(queue)):\r\n",
        "    if i == len(queue)-1:\r\n",
        "        print('abs({}-{})'.format(queue[i],queue[i-1]))\r\n",
        "    else:\r\n",
        "        print('abs({}-{})'.format(queue[i],queue[i-1]),end='+')\r\n",
        "    temp.append(abs(queue[i]-queue[i-1]))\r\n",
        "\r\n"
      ],
      "execution_count": null,
      "outputs": [
        {
          "output_type": "stream",
          "text": [
            "Enter sequence : 98 183 37 122 14 124 65 67\n",
            "Give header : 53\n",
            "Path is [53, 98, 183, 37, 122, 14, 124, 65, 67]\n",
            "abs(98-53)+abs(183-98)+abs(37-183)+abs(122-37)+abs(14-122)+abs(124-14)+abs(65-124)+abs(67-65)\n"
          ],
          "name": "stdout"
        }
      ]
    },
    {
      "cell_type": "code",
      "metadata": {
        "colab": {
          "base_uri": "https://localhost:8080/"
        },
        "id": "fIkHCp8dhQQK",
        "outputId": "cb4c7e74-b73e-4653-8e8c-42f5739e8303"
      },
      "source": [
        "print('Total path cost is',sum,'cylinders' )"
      ],
      "execution_count": 16,
      "outputs": [
        {
          "output_type": "stream",
          "text": [
            "Total path cost is 640 cylinders\n"
          ],
          "name": "stdout"
        }
      ]
    }
  ]
}